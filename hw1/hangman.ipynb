{
 "cells": [
  {
   "cell_type": "code",
   "execution_count": 1,
   "metadata": {},
   "outputs": [],
   "source": [
    "import random"
   ]
  },
  {
   "cell_type": "code",
   "execution_count": 2,
   "metadata": {},
   "outputs": [],
   "source": [
    "HANGMANPICS = ['''\n",
    "\n",
    "  +---+\n",
    "  |   |\n",
    "      |\n",
    "      |\n",
    "      |\n",
    "      |\n",
    "=========''','''\n",
    "\n",
    "  +---+\n",
    "  |   |\n",
    "  O   |\n",
    "      |\n",
    "      |\n",
    "      |\n",
    "=========''','''\n",
    "\n",
    "  +---+\n",
    "  |   |\n",
    "  O   |\n",
    "  |   |\n",
    "      |\n",
    "      |\n",
    "=========''','''\n",
    "\n",
    "  +---+\n",
    "  |   |\n",
    "  O   |\n",
    " /|   |\n",
    "      |\n",
    "      |\n",
    "=========''','''\n",
    "\n",
    "  +---+\n",
    "  |   |\n",
    "  O   |\n",
    " /|\\  |\n",
    "      |\n",
    "      |\n",
    "=========''','''\n",
    "\n",
    "  +---+\n",
    "  |   |\n",
    "  O   |\n",
    " /|\\  |\n",
    " /    |\n",
    "      |\n",
    "=========''','''\n",
    "\n",
    "  +---+\n",
    "  |   |\n",
    "  O   |\n",
    " /|\\  |\n",
    " / \\  |\n",
    "      |\n",
    "=========''']"
   ]
  },
  {
   "cell_type": "code",
   "execution_count": null,
   "metadata": {},
   "outputs": [],
   "source": [
    "def themesChoice():\n",
    "    themes = {1: 'cities.txt', 2: 'linguistic.txt', 3: 'japanesefood.txt'}\n",
    "    while True:\n",
    "        tema = input('Выберите тему: 1. Города Японии 2. Лингвистические термины 3. Блюда японской кухни: ')\n",
    "        if int(tema) in themes:\n",
    "            with open(themes[int(tema)], 'r', encoding='utf-8') as f:\n",
    "                words = f.split('\\n')\n",
    "            break\n",
    "    return words"
   ]
  },
  {
   "cell_type": "code",
   "execution_count": null,
   "metadata": {},
   "outputs": [],
   "source": [
    "def getRandomWord(wordList):\n",
    "    #Возвращает случайное слово, которое выбирает из заранее созданного списка\n",
    "    word_index = random.randint(0, len(wordList) - 1)\n",
    "    return wordList[wordIndex]"
   ]
  },
  {
   "cell_type": "code",
   "execution_count": 5,
   "metadata": {},
   "outputs": [],
   "source": [
    "def displayBoard(HANGMANPICS, missedletters, correctLetters,secretWord):\n",
    "    print(HANGMANPICS[len(missedLetters)])\n",
    "    print()\n",
    "\n",
    "    print('Неправильные буквы:', end=' ')\n",
    "    for letter in missedLetters:\n",
    "        print(letter, end=' ')\n",
    "    print()\n",
    "\n",
    "    blanks = '*'*len(secretWord)\n",
    "\n",
    "    for i in  range(len(secretWord)):#Заменяем звездочки на правильно угаданные буквы\n",
    "        if secretWord[i] in correctLetters:\n",
    "            blanks = blanks[:i] + secretWord[i] + blanks[i+1:]\n",
    "\n",
    "    for letter in blanks: #Показываем загаданное слово с пробелами между буквами\n",
    "        print(letter, end=' ')\n",
    "    print()"
   ]
  },
  {
   "cell_type": "code",
   "execution_count": 6,
   "metadata": {},
   "outputs": [],
   "source": [
    "def getGuess(alreadyGuessed):\n",
    "    #Возвращает букву, которую ввел игрок. Эта функция проверяет, что введена буква, а не какой-то другой символ\n",
    "    while True:\n",
    "        print('Введите букву')\n",
    "        guess = input()\n",
    "        guess = guess.lower()\n",
    "        if len(guess) != 1:\n",
    "            print('Ваша буква:')\n",
    "        elif guess in alreadyGuessed:\n",
    "            print ('Вы уже пробовали эту букву. Выберите другую')\n",
    "        elif guess not in 'ёйцукенгшщзхъфывапролджэячсмитьбю':\n",
    "            print('Пожалуйста, введите букву кириллицы')\n",
    "        else:\n",
    "            return guess"
   ]
  },
  {
   "cell_type": "code",
   "execution_count": 7,
   "metadata": {},
   "outputs": [],
   "source": [
    "def playAgain():\n",
    "    #Возвращает True, если игрок решит сыграть еще раз. В противном случае возвращается False\n",
    "    print('Хотите попробовать еще раз? (\"Да\" или \"Нет\")')\n",
    "    return input().lower().startswith('д')"
   ]
  },
  {
   "cell_type": "code",
   "execution_count": null,
   "metadata": {},
   "outputs": [],
   "source": [
    "missedLetters = ''\n",
    "correctLetters = ''\n",
    "secretWord = getRandomWord(words)\n",
    "gameIsDone = False\n",
    "\n",
    "while True:\n",
    "    displayBoard(HANGMANPICS, missedLetters, correctLetters, secretWord)\n",
    "\n",
    "    #Вычисляем количество букв, которые ввел игрок\n",
    "\t\n",
    "    guess = getGuess(missedLetters+correctLetters)\n",
    "\n",
    "    if guess in secretWord:\n",
    "        correctLetters = correctLetters + guess\n",
    "\n",
    "        #Проверка условия победы игрока\n",
    "        foundAllLetters = True\n",
    "        for i in range(len(secretWord)):\n",
    "            if secretWord[i] not in correctLetters:\n",
    "                foundAllLetters = False\n",
    "                break\n",
    "        if foundAllLetters:\n",
    "            print('Превосходно! Было загадано слово \"'+secretWord+'\"! Вы победили!')\n",
    "\n",
    "            gameIsDone = True\n",
    "    else:\n",
    "        missedLetters = missedLetters+guess\n",
    "\n",
    "        #Проверка условия проигрыша игрока\n",
    "        if len(missedLetters) == len(HANGMANPICS) - 1:\n",
    "            displayBoard(HANGMANPICS, missedLetters, correctLetters, secretWord)\n",
    "            print('У вас не осталось попыток!\\nПосле '+str(len(missedLetters))+' ошибок и '+str(len(correctLetters))+'угаданных букв. Загаданное слово:'+secretWord+'\"')\n",
    "            gameIsDone = True\n",
    "    # Спрашиваем, хочет ли игрок сыграть еще раз.\n",
    "\n",
    "    if gameIsDone:\n",
    "        if playAgain():\n",
    "            missedLetters = ''\n",
    "            correctLetters = ''\n",
    "            gameIsDone = False\n",
    "            secretWord = getRandomWord(words)\n",
    "        else:\n",
    "            break"
   ]
  },
  {
   "cell_type": "code",
   "execution_count": null,
   "metadata": {},
   "outputs": [],
   "source": []
  },
  {
   "cell_type": "code",
   "execution_count": null,
   "metadata": {},
   "outputs": [],
   "source": []
  },
  {
   "cell_type": "code",
   "execution_count": null,
   "metadata": {},
   "outputs": [],
   "source": []
  },
  {
   "cell_type": "code",
   "execution_count": null,
   "metadata": {},
   "outputs": [],
   "source": []
  }
 ],
 "metadata": {
  "kernelspec": {
   "display_name": "Python 3",
   "language": "python",
   "name": "python3"
  },
  "language_info": {
   "codemirror_mode": {
    "name": "ipython",
    "version": 3
   },
   "file_extension": ".py",
   "mimetype": "text/x-python",
   "name": "python",
   "nbconvert_exporter": "python",
   "pygments_lexer": "ipython3",
   "version": "3.6.4"
  }
 },
 "nbformat": 4,
 "nbformat_minor": 2
}
